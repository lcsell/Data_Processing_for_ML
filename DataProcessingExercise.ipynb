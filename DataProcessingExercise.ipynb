{
 "cells": [
  {
   "cell_type": "code",
   "execution_count": 1,
   "metadata": {},
   "outputs": [],
   "source": [
    "import pandas as pd\n",
    "import numpy as np\n",
    "from sklearn.impute import SimpleImputer\n",
    "from sklearn import preprocessing\n",
    "\n",
    "songs = pd.read_csv('ml-03-data-processing-songs-dataset.csv')"
   ]
  },
  {
   "cell_type": "code",
   "execution_count": 2,
   "metadata": {},
   "outputs": [
    {
     "data": {
      "text/plain": [
       "(1994, 16)"
      ]
     },
     "execution_count": 2,
     "metadata": {},
     "output_type": "execute_result"
    }
   ],
   "source": [
    "songs.shape"
   ]
  },
  {
   "cell_type": "code",
   "execution_count": 3,
   "metadata": {},
   "outputs": [
    {
     "name": "stdout",
     "output_type": "stream",
     "text": [
      "<class 'pandas.core.frame.DataFrame'>\n",
      "RangeIndex: 1994 entries, 0 to 1993\n",
      "Data columns (total 16 columns):\n",
      " #   Column                  Non-Null Count  Dtype  \n",
      "---  ------                  --------------  -----  \n",
      " 0   Index                   1994 non-null   int64  \n",
      " 1   Title                   1991 non-null   object \n",
      " 2   Artist                  1986 non-null   object \n",
      " 3   Top Genre               1986 non-null   object \n",
      " 4   Year                    1987 non-null   float64\n",
      " 5   Month                   1994 non-null   object \n",
      " 6   Beats Per Minute (BPM)  1985 non-null   float64\n",
      " 7   Energy                  1986 non-null   float64\n",
      " 8   Danceability            970 non-null    float64\n",
      " 9   Loudness (dB)           1987 non-null   float64\n",
      " 10  Liveness                1986 non-null   float64\n",
      " 11  Valence                 960 non-null    float64\n",
      " 12  Length (Duration)       1985 non-null   object \n",
      " 13  Acousticness            1986 non-null   float64\n",
      " 14  Speechiness             1990 non-null   float64\n",
      " 15  Popularity              1987 non-null   float64\n",
      "dtypes: float64(10), int64(1), object(5)\n",
      "memory usage: 249.4+ KB\n"
     ]
    }
   ],
   "source": [
    "songs.info()"
   ]
  },
  {
   "cell_type": "code",
   "execution_count": 4,
   "metadata": {},
   "outputs": [
    {
     "data": {
      "text/html": [
       "<div>\n",
       "<style scoped>\n",
       "    .dataframe tbody tr th:only-of-type {\n",
       "        vertical-align: middle;\n",
       "    }\n",
       "\n",
       "    .dataframe tbody tr th {\n",
       "        vertical-align: top;\n",
       "    }\n",
       "\n",
       "    .dataframe thead th {\n",
       "        text-align: right;\n",
       "    }\n",
       "</style>\n",
       "<table border=\"1\" class=\"dataframe\">\n",
       "  <thead>\n",
       "    <tr style=\"text-align: right;\">\n",
       "      <th></th>\n",
       "      <th>Index</th>\n",
       "      <th>Title</th>\n",
       "      <th>Artist</th>\n",
       "      <th>Top Genre</th>\n",
       "      <th>Year</th>\n",
       "      <th>Month</th>\n",
       "      <th>Beats Per Minute (BPM)</th>\n",
       "      <th>Energy</th>\n",
       "      <th>Danceability</th>\n",
       "      <th>Loudness (dB)</th>\n",
       "      <th>Liveness</th>\n",
       "      <th>Valence</th>\n",
       "      <th>Length (Duration)</th>\n",
       "      <th>Acousticness</th>\n",
       "      <th>Speechiness</th>\n",
       "      <th>Popularity</th>\n",
       "    </tr>\n",
       "  </thead>\n",
       "  <tbody>\n",
       "    <tr>\n",
       "      <th>0</th>\n",
       "      <td>1</td>\n",
       "      <td>Sunrise</td>\n",
       "      <td>Norah Jones</td>\n",
       "      <td>adult standards</td>\n",
       "      <td>2004.0</td>\n",
       "      <td>10</td>\n",
       "      <td>157.0</td>\n",
       "      <td>30.0</td>\n",
       "      <td>53.0</td>\n",
       "      <td>-14.0</td>\n",
       "      <td>11.0</td>\n",
       "      <td>68.0</td>\n",
       "      <td>201</td>\n",
       "      <td>94.0</td>\n",
       "      <td>3.0</td>\n",
       "      <td>71.0</td>\n",
       "    </tr>\n",
       "    <tr>\n",
       "      <th>1</th>\n",
       "      <td>2</td>\n",
       "      <td>Black Night</td>\n",
       "      <td>Deep Purple</td>\n",
       "      <td>album rock</td>\n",
       "      <td>2000.0</td>\n",
       "      <td>3</td>\n",
       "      <td>135.0</td>\n",
       "      <td>79.0</td>\n",
       "      <td>50.0</td>\n",
       "      <td>-11.0</td>\n",
       "      <td>17.0</td>\n",
       "      <td>81.0</td>\n",
       "      <td>207</td>\n",
       "      <td>17.0</td>\n",
       "      <td>7.0</td>\n",
       "      <td>39.0</td>\n",
       "    </tr>\n",
       "    <tr>\n",
       "      <th>2</th>\n",
       "      <td>3</td>\n",
       "      <td>Clint Eastwood</td>\n",
       "      <td>Gorillaz</td>\n",
       "      <td>alternative hip hop</td>\n",
       "      <td>2001.0</td>\n",
       "      <td>6</td>\n",
       "      <td>168.0</td>\n",
       "      <td>69.0</td>\n",
       "      <td>66.0</td>\n",
       "      <td>-9.0</td>\n",
       "      <td>7.0</td>\n",
       "      <td>52.0</td>\n",
       "      <td>341</td>\n",
       "      <td>2.0</td>\n",
       "      <td>17.0</td>\n",
       "      <td>69.0</td>\n",
       "    </tr>\n",
       "    <tr>\n",
       "      <th>3</th>\n",
       "      <td>4</td>\n",
       "      <td>The Pretender</td>\n",
       "      <td>Foo Fighters</td>\n",
       "      <td>alternative metal</td>\n",
       "      <td>2007.0</td>\n",
       "      <td>1</td>\n",
       "      <td>173.0</td>\n",
       "      <td>96.0</td>\n",
       "      <td>43.0</td>\n",
       "      <td>-4.0</td>\n",
       "      <td>3.0</td>\n",
       "      <td>37.0</td>\n",
       "      <td>269</td>\n",
       "      <td>0.0</td>\n",
       "      <td>4.0</td>\n",
       "      <td>76.0</td>\n",
       "    </tr>\n",
       "    <tr>\n",
       "      <th>4</th>\n",
       "      <td>5</td>\n",
       "      <td>Waitin' On A Sunny Day</td>\n",
       "      <td>Bruce Springsteen</td>\n",
       "      <td>classic rock</td>\n",
       "      <td>2002.0</td>\n",
       "      <td>8</td>\n",
       "      <td>106.0</td>\n",
       "      <td>82.0</td>\n",
       "      <td>58.0</td>\n",
       "      <td>-5.0</td>\n",
       "      <td>10.0</td>\n",
       "      <td>87.0</td>\n",
       "      <td>256</td>\n",
       "      <td>1.0</td>\n",
       "      <td>3.0</td>\n",
       "      <td>59.0</td>\n",
       "    </tr>\n",
       "  </tbody>\n",
       "</table>\n",
       "</div>"
      ],
      "text/plain": [
       "   Index                   Title             Artist            Top Genre  \\\n",
       "0      1                 Sunrise        Norah Jones      adult standards   \n",
       "1      2             Black Night        Deep Purple           album rock   \n",
       "2      3          Clint Eastwood           Gorillaz  alternative hip hop   \n",
       "3      4           The Pretender       Foo Fighters    alternative metal   \n",
       "4      5  Waitin' On A Sunny Day  Bruce Springsteen         classic rock   \n",
       "\n",
       "     Year Month  Beats Per Minute (BPM)  Energy  Danceability  Loudness (dB)  \\\n",
       "0  2004.0    10                   157.0    30.0          53.0          -14.0   \n",
       "1  2000.0     3                   135.0    79.0          50.0          -11.0   \n",
       "2  2001.0     6                   168.0    69.0          66.0           -9.0   \n",
       "3  2007.0     1                   173.0    96.0          43.0           -4.0   \n",
       "4  2002.0     8                   106.0    82.0          58.0           -5.0   \n",
       "\n",
       "   Liveness  Valence Length (Duration)  Acousticness  Speechiness  Popularity  \n",
       "0      11.0     68.0               201          94.0          3.0        71.0  \n",
       "1      17.0     81.0               207          17.0          7.0        39.0  \n",
       "2       7.0     52.0               341           2.0         17.0        69.0  \n",
       "3       3.0     37.0               269           0.0          4.0        76.0  \n",
       "4      10.0     87.0               256           1.0          3.0        59.0  "
      ]
     },
     "execution_count": 4,
     "metadata": {},
     "output_type": "execute_result"
    }
   ],
   "source": [
    "songs.head()"
   ]
  },
  {
   "cell_type": "code",
   "execution_count": 5,
   "metadata": {},
   "outputs": [],
   "source": [
    "#remove rows and columns where over half of values are NaN\n",
    "songs = songs.loc[songs.count(1) > songs.shape[1]/2, songs.count(0) > songs.shape[0]/2]"
   ]
  },
  {
   "cell_type": "code",
   "execution_count": 15,
   "metadata": {},
   "outputs": [
    {
     "name": "stdout",
     "output_type": "stream",
     "text": [
      "<class 'pandas.core.frame.DataFrame'>\n",
      "Int64Index: 1981 entries, 0 to 1993\n",
      "Data columns (total 14 columns):\n",
      " #   Column             Non-Null Count  Dtype  \n",
      "---  ------             --------------  -----  \n",
      " 0   Index              1981 non-null   int64  \n",
      " 1   Title              1981 non-null   object \n",
      " 2   Artist             1981 non-null   object \n",
      " 3   TopGenre           1981 non-null   object \n",
      " 4   Year               1981 non-null   float64\n",
      " 5   Month              1981 non-null   int32  \n",
      " 6   BeatsPerMinuteBPM  1981 non-null   float64\n",
      " 7   Energy             1981 non-null   float64\n",
      " 8   LoudnessdB         1981 non-null   float64\n",
      " 9   Liveness           1981 non-null   float64\n",
      " 10  LengthDuration     1981 non-null   object \n",
      " 11  Acousticness       1981 non-null   float64\n",
      " 12  Speechiness        1981 non-null   float64\n",
      " 13  Popularity         1981 non-null   float64\n",
      "dtypes: float64(8), int32(1), int64(1), object(4)\n",
      "memory usage: 224.4+ KB\n"
     ]
    }
   ],
   "source": [
    "songs.info()"
   ]
  },
  {
   "cell_type": "code",
   "execution_count": 7,
   "metadata": {},
   "outputs": [
    {
     "name": "stderr",
     "output_type": "stream",
     "text": [
      "C:\\Users\\Logan\\AppData\\Local\\Temp\\ipykernel_219892\\1612843399.py:3: FutureWarning: The default value of regex will change from True to False in a future version. In addition, single character regular expressions will *not* be treated as literal strings when regex=True.\n",
      "  songs.columns = songs.columns.str.replace('(', '')\n",
      "C:\\Users\\Logan\\AppData\\Local\\Temp\\ipykernel_219892\\1612843399.py:4: FutureWarning: The default value of regex will change from True to False in a future version. In addition, single character regular expressions will *not* be treated as literal strings when regex=True.\n",
      "  songs.columns = songs.columns.str.replace(')', '')\n"
     ]
    }
   ],
   "source": [
    "#replace spaces in column names\n",
    "songs.columns = songs.columns.str.replace(' ', '')\n",
    "songs.columns = songs.columns.str.replace('(', '')\n",
    "songs.columns = songs.columns.str.replace(')', '')\n",
    "\n"
   ]
  },
  {
   "cell_type": "code",
   "execution_count": 8,
   "metadata": {},
   "outputs": [],
   "source": [
    "#replace short years in Year column.\n",
    "songs['Year'] = songs['Year'].replace([92.0], 1992.0)"
   ]
  },
  {
   "cell_type": "code",
   "execution_count": 9,
   "metadata": {},
   "outputs": [
    {
     "data": {
      "text/plain": [
       "count    1981.000000\n",
       "mean     1993.008582\n",
       "std        16.114691\n",
       "min      1956.000000\n",
       "25%      1979.000000\n",
       "50%      1994.000000\n",
       "75%      2007.000000\n",
       "max      2019.000000\n",
       "Name: Year, dtype: float64"
      ]
     },
     "execution_count": 9,
     "metadata": {},
     "output_type": "execute_result"
    }
   ],
   "source": [
    "songs.Year.describe()"
   ]
  },
  {
   "cell_type": "code",
   "execution_count": 10,
   "metadata": {},
   "outputs": [
    {
     "data": {
      "text/plain": [
       "0        True\n",
       "1       False\n",
       "2       False\n",
       "3       False\n",
       "4       False\n",
       "        ...  \n",
       "1989    False\n",
       "1990    False\n",
       "1991    False\n",
       "1992     True\n",
       "1993    False\n",
       "Name: Month, Length: 1981, dtype: bool"
      ]
     },
     "execution_count": 10,
     "metadata": {},
     "output_type": "execute_result"
    }
   ],
   "source": [
    "#replaceing month abbreviations with month #\n",
    "\n",
    "songs['Month'] = songs['Month'].replace(['Jan', 'Apr', 'May', 'Jun', 'Sep', 'Dec'], ['1', '4', '5', '6', '9', '12'])\n",
    "songs['Month'] == songs['Month'].replace(['1', '2', '3', '4', '5', '6', '7', '8','9'], ['01', '02', '03', '04', '05', '06', '07', '08', '09'])"
   ]
  },
  {
   "cell_type": "code",
   "execution_count": 11,
   "metadata": {},
   "outputs": [],
   "source": [
    "songs['Month'] = songs['Month'].astype(int)"
   ]
  },
  {
   "cell_type": "code",
   "execution_count": 30,
   "metadata": {},
   "outputs": [],
   "source": [
    "songs['Month'] = songs['Month'].astype(str)"
   ]
  },
  {
   "cell_type": "code",
   "execution_count": 12,
   "metadata": {},
   "outputs": [
    {
     "data": {
      "text/plain": [
       "count    1981.000000\n",
       "mean        6.521454\n",
       "std         3.419370\n",
       "min         1.000000\n",
       "25%         4.000000\n",
       "50%         7.000000\n",
       "75%         9.000000\n",
       "max        12.000000\n",
       "Name: Month, dtype: float64"
      ]
     },
     "execution_count": 12,
     "metadata": {},
     "output_type": "execute_result"
    }
   ],
   "source": [
    "songs.Month.describe()"
   ]
  },
  {
   "cell_type": "code",
   "execution_count": 13,
   "metadata": {},
   "outputs": [
    {
     "data": {
      "text/plain": [
       "count    1981.000000\n",
       "mean      120.238768\n",
       "std        28.652640\n",
       "min        15.000000\n",
       "25%        99.000000\n",
       "50%       119.000000\n",
       "75%       136.000000\n",
       "max       305.000000\n",
       "Name: BeatsPerMinuteBPM, dtype: float64"
      ]
     },
     "execution_count": 13,
     "metadata": {},
     "output_type": "execute_result"
    }
   ],
   "source": [
    "songs.BeatsPerMinuteBPM.describe()"
   ]
  },
  {
   "cell_type": "code",
   "execution_count": 16,
   "metadata": {},
   "outputs": [
    {
     "data": {
      "text/plain": [
       "count    1981.000000\n",
       "mean       59.641090\n",
       "std        22.177314\n",
       "min         3.000000\n",
       "25%        42.000000\n",
       "50%        61.000000\n",
       "75%        78.000000\n",
       "max       100.000000\n",
       "Name: Energy, dtype: float64"
      ]
     },
     "execution_count": 16,
     "metadata": {},
     "output_type": "execute_result"
    }
   ],
   "source": [
    "songs.Energy.describe()"
   ]
  },
  {
   "cell_type": "code",
   "execution_count": 17,
   "metadata": {},
   "outputs": [
    {
     "data": {
      "text/plain": [
       "count    1981.000000\n",
       "mean       -9.018173\n",
       "std         3.652130\n",
       "min       -27.000000\n",
       "25%       -11.000000\n",
       "50%        -9.000000\n",
       "75%        -6.000000\n",
       "max        -2.000000\n",
       "Name: LoudnessdB, dtype: float64"
      ]
     },
     "execution_count": 17,
     "metadata": {},
     "output_type": "execute_result"
    }
   ],
   "source": [
    "#negative values\n",
    "songs.LoudnessdB.describe()"
   ]
  },
  {
   "cell_type": "code",
   "execution_count": 18,
   "metadata": {},
   "outputs": [
    {
     "data": {
      "text/plain": [
       "count    1981.000000\n",
       "mean       19.009086\n",
       "std        16.737453\n",
       "min         2.000000\n",
       "25%         9.000000\n",
       "50%        12.000000\n",
       "75%        23.000000\n",
       "max        99.000000\n",
       "Name: Liveness, dtype: float64"
      ]
     },
     "execution_count": 18,
     "metadata": {},
     "output_type": "execute_result"
    }
   ],
   "source": [
    "songs.Liveness.describe()"
   ]
  },
  {
   "cell_type": "code",
   "execution_count": 19,
   "metadata": {},
   "outputs": [],
   "source": [
    "\n",
    "songs['LengthDuration'] = songs['LengthDuration'].str.replace(',', '')\n"
   ]
  },
  {
   "cell_type": "code",
   "execution_count": 20,
   "metadata": {},
   "outputs": [],
   "source": [
    "songs['LengthDuration'] = songs['LengthDuration'].astype(int)\n"
   ]
  },
  {
   "cell_type": "code",
   "execution_count": 21,
   "metadata": {},
   "outputs": [
    {
     "data": {
      "text/plain": [
       "count    1981.000000\n",
       "mean      262.620899\n",
       "std        93.843197\n",
       "min        93.000000\n",
       "25%       212.000000\n",
       "50%       245.000000\n",
       "75%       290.000000\n",
       "max      1412.000000\n",
       "Name: LengthDuration, dtype: float64"
      ]
     },
     "execution_count": 21,
     "metadata": {},
     "output_type": "execute_result"
    }
   ],
   "source": [
    "songs.LengthDuration.describe()"
   ]
  },
  {
   "cell_type": "code",
   "execution_count": 22,
   "metadata": {},
   "outputs": [
    {
     "data": {
      "text/plain": [
       "count    1981.000000\n",
       "mean       28.933872\n",
       "std        29.047404\n",
       "min         0.000000\n",
       "25%         3.000000\n",
       "50%        18.000000\n",
       "75%        50.000000\n",
       "max        99.000000\n",
       "Name: Acousticness, dtype: float64"
      ]
     },
     "execution_count": 22,
     "metadata": {},
     "output_type": "execute_result"
    }
   ],
   "source": [
    "songs.Acousticness.describe()\n"
   ]
  },
  {
   "cell_type": "code",
   "execution_count": 23,
   "metadata": {},
   "outputs": [
    {
     "data": {
      "text/plain": [
       "count    1981.000000\n",
       "mean        4.992428\n",
       "std         4.411125\n",
       "min         2.000000\n",
       "25%         3.000000\n",
       "50%         4.000000\n",
       "75%         5.000000\n",
       "max        55.000000\n",
       "Name: Speechiness, dtype: float64"
      ]
     },
     "execution_count": 23,
     "metadata": {},
     "output_type": "execute_result"
    }
   ],
   "source": [
    "songs.Speechiness.describe()"
   ]
  },
  {
   "cell_type": "code",
   "execution_count": 24,
   "metadata": {},
   "outputs": [
    {
     "data": {
      "text/plain": [
       "count    1981.000000\n",
       "mean       59.499243\n",
       "std        14.374101\n",
       "min        11.000000\n",
       "25%        49.000000\n",
       "50%        62.000000\n",
       "75%        71.000000\n",
       "max       100.000000\n",
       "Name: Popularity, dtype: float64"
      ]
     },
     "execution_count": 24,
     "metadata": {},
     "output_type": "execute_result"
    }
   ],
   "source": [
    "#appears to be out of 100\n",
    "songs.Popularity.describe()"
   ]
  },
  {
   "cell_type": "markdown",
   "metadata": {},
   "source": [
    "# How should I interpret std deviation values?"
   ]
  },
  {
   "cell_type": "code",
   "execution_count": 80,
   "metadata": {},
   "outputs": [
    {
     "ename": "ValueError",
     "evalue": "Cannot use mean strategy with non-numeric data:\ncould not convert string to float: 'Sunrise'",
     "output_type": "error",
     "traceback": [
      "\u001b[1;31m---------------------------------------------------------------------------\u001b[0m",
      "\u001b[1;31mValueError\u001b[0m                                Traceback (most recent call last)",
      "\u001b[1;32mc:\\Users\\Logan\\Documents\\Repositories\\M9MachineLearning\\DataProcessingExercise.ipynb Cell 24\u001b[0m in \u001b[0;36m<cell line: 4>\u001b[1;34m()\u001b[0m\n\u001b[0;32m      <a href='vscode-notebook-cell:/c%3A/Users/Logan/Documents/Repositories/M9MachineLearning/DataProcessingExercise.ipynb#X33sZmlsZQ%3D%3D?line=0'>1</a>\u001b[0m \u001b[39m#let's impute\u001b[39;00m\n\u001b[0;32m      <a href='vscode-notebook-cell:/c%3A/Users/Logan/Documents/Repositories/M9MachineLearning/DataProcessingExercise.ipynb#X33sZmlsZQ%3D%3D?line=2'>3</a>\u001b[0m imp \u001b[39m=\u001b[39m SimpleImputer(missing_values\u001b[39m=\u001b[39mnp\u001b[39m.\u001b[39mnan, strategy\u001b[39m=\u001b[39m\u001b[39m'\u001b[39m\u001b[39mmean\u001b[39m\u001b[39m'\u001b[39m)\n\u001b[1;32m----> <a href='vscode-notebook-cell:/c%3A/Users/Logan/Documents/Repositories/M9MachineLearning/DataProcessingExercise.ipynb#X33sZmlsZQ%3D%3D?line=3'>4</a>\u001b[0m imp\u001b[39m.\u001b[39;49mfit(songs)\n",
      "File \u001b[1;32mc:\\Users\\Logan\\anaconda3\\lib\\site-packages\\sklearn\\impute\\_base.py:319\u001b[0m, in \u001b[0;36mSimpleImputer.fit\u001b[1;34m(self, X, y)\u001b[0m\n\u001b[0;32m    302\u001b[0m \u001b[39mdef\u001b[39;00m \u001b[39mfit\u001b[39m(\u001b[39mself\u001b[39m, X, y\u001b[39m=\u001b[39m\u001b[39mNone\u001b[39;00m):\n\u001b[0;32m    303\u001b[0m     \u001b[39m\"\"\"Fit the imputer on `X`.\u001b[39;00m\n\u001b[0;32m    304\u001b[0m \n\u001b[0;32m    305\u001b[0m \u001b[39m    Parameters\u001b[39;00m\n\u001b[1;32m   (...)\u001b[0m\n\u001b[0;32m    317\u001b[0m \u001b[39m        Fitted estimator.\u001b[39;00m\n\u001b[0;32m    318\u001b[0m \u001b[39m    \"\"\"\u001b[39;00m\n\u001b[1;32m--> 319\u001b[0m     X \u001b[39m=\u001b[39m \u001b[39mself\u001b[39;49m\u001b[39m.\u001b[39;49m_validate_input(X, in_fit\u001b[39m=\u001b[39;49m\u001b[39mTrue\u001b[39;49;00m)\n\u001b[0;32m    321\u001b[0m     \u001b[39m# default fill_value is 0 for numerical input and \"missing_value\"\u001b[39;00m\n\u001b[0;32m    322\u001b[0m     \u001b[39m# otherwise\u001b[39;00m\n\u001b[0;32m    323\u001b[0m     \u001b[39mif\u001b[39;00m \u001b[39mself\u001b[39m\u001b[39m.\u001b[39mfill_value \u001b[39mis\u001b[39;00m \u001b[39mNone\u001b[39;00m:\n",
      "File \u001b[1;32mc:\\Users\\Logan\\anaconda3\\lib\\site-packages\\sklearn\\impute\\_base.py:285\u001b[0m, in \u001b[0;36mSimpleImputer._validate_input\u001b[1;34m(self, X, in_fit)\u001b[0m\n\u001b[0;32m    279\u001b[0m \u001b[39mif\u001b[39;00m \u001b[39m\"\u001b[39m\u001b[39mcould not convert\u001b[39m\u001b[39m\"\u001b[39m \u001b[39min\u001b[39;00m \u001b[39mstr\u001b[39m(ve):\n\u001b[0;32m    280\u001b[0m     new_ve \u001b[39m=\u001b[39m \u001b[39mValueError\u001b[39;00m(\n\u001b[0;32m    281\u001b[0m         \u001b[39m\"\u001b[39m\u001b[39mCannot use \u001b[39m\u001b[39m{}\u001b[39;00m\u001b[39m strategy with non-numeric data:\u001b[39m\u001b[39m\\n\u001b[39;00m\u001b[39m{}\u001b[39;00m\u001b[39m\"\u001b[39m\u001b[39m.\u001b[39mformat(\n\u001b[0;32m    282\u001b[0m             \u001b[39mself\u001b[39m\u001b[39m.\u001b[39mstrategy, ve\n\u001b[0;32m    283\u001b[0m         )\n\u001b[0;32m    284\u001b[0m     )\n\u001b[1;32m--> 285\u001b[0m     \u001b[39mraise\u001b[39;00m new_ve \u001b[39mfrom\u001b[39;00m \u001b[39mNone\u001b[39m\n\u001b[0;32m    286\u001b[0m \u001b[39melse\u001b[39;00m:\n\u001b[0;32m    287\u001b[0m     \u001b[39mraise\u001b[39;00m ve\n",
      "\u001b[1;31mValueError\u001b[0m: Cannot use mean strategy with non-numeric data:\ncould not convert string to float: 'Sunrise'"
     ]
    }
   ],
   "source": [
    "#let's impute\n",
    "\n",
    "imp = SimpleImputer(missing_values=np.nan, strategy='mean')\n",
    "\n",
    "imp.fit(#insert value here\n",
    ")\n"
   ]
  },
  {
   "cell_type": "markdown",
   "metadata": {},
   "source": [
    "# It seems there are no null entries left"
   ]
  },
  {
   "cell_type": "code",
   "execution_count": 27,
   "metadata": {},
   "outputs": [],
   "source": [
    "songs['Year'] = songs['Year'].astype(int)\n",
    "songs['Year'] = songs['Year'].astype(str)"
   ]
  },
  {
   "cell_type": "code",
   "execution_count": 31,
   "metadata": {},
   "outputs": [],
   "source": [
    "songs['fulldate'] = songs['Year'] + '-' + songs['Month'] + '-' + '01'"
   ]
  },
  {
   "cell_type": "code",
   "execution_count": 32,
   "metadata": {},
   "outputs": [
    {
     "data": {
      "text/plain": [
       "2018-12-01    9\n",
       "2012-8-01     8\n",
       "1969-11-01    8\n",
       "2007-7-01     8\n",
       "1977-4-01     8\n",
       "             ..\n",
       "1983-12-01    1\n",
       "1985-3-01     1\n",
       "1985-7-01     1\n",
       "1985-8-01     1\n",
       "1959-6-01     1\n",
       "Name: fulldate, Length: 645, dtype: int64"
      ]
     },
     "execution_count": 32,
     "metadata": {},
     "output_type": "execute_result"
    }
   ],
   "source": [
    "songs.fulldate.value_counts()"
   ]
  },
  {
   "cell_type": "code",
   "execution_count": 39,
   "metadata": {},
   "outputs": [],
   "source": [
    "songs['fulldate'] = pd.to_datetime(songs['fulldate'])"
   ]
  },
  {
   "cell_type": "code",
   "execution_count": 60,
   "metadata": {},
   "outputs": [
    {
     "name": "stdout",
     "output_type": "stream",
     "text": [
      "<class 'pandas.core.frame.DataFrame'>\n",
      "Int64Index: 1981 entries, 0 to 1993\n",
      "Columns: 163 entries, Index to yacht rock\n",
      "dtypes: datetime64[ns](1), float64(7), int32(3), int64(2), object(2), uint8(148)\n",
      "memory usage: 575.3+ KB\n"
     ]
    }
   ],
   "source": [
    "songs.info()"
   ]
  },
  {
   "cell_type": "code",
   "execution_count": 35,
   "metadata": {},
   "outputs": [],
   "source": [
    "def calcage(startdate, enddate):\n",
    "    age = enddate.year - startdate.year\n",
    "\n",
    "    if (enddate.month < startdate.month or (enddate.month==startdate.month and enddate.day<startdate.day) ):\n",
    "        age = age -1 \n",
    "    return age\n",
    "\n",
    "    "
   ]
  },
  {
   "cell_type": "code",
   "execution_count": 37,
   "metadata": {},
   "outputs": [],
   "source": [
    "rundate = pd.to_datetime('2022-09-10')"
   ]
  },
  {
   "cell_type": "code",
   "execution_count": 41,
   "metadata": {},
   "outputs": [],
   "source": [
    "songs['Age'] = songs.apply(lambda x: calcage (x.fulldate, rundate), axis=1)"
   ]
  },
  {
   "cell_type": "code",
   "execution_count": 134,
   "metadata": {},
   "outputs": [],
   "source": [
    "songs = songs[['Title', 'Artist', 'TopGenre', 'BeatsPerMinuteBPM', 'Energy', 'LoudnessdB', 'Liveness', 'LengthDuration', \n",
    "'Acousticness', 'Speechiness', 'Popularity', 'Age']]"
   ]
  },
  {
   "cell_type": "code",
   "execution_count": 135,
   "metadata": {},
   "outputs": [
    {
     "data": {
      "text/html": [
       "<div>\n",
       "<style scoped>\n",
       "    .dataframe tbody tr th:only-of-type {\n",
       "        vertical-align: middle;\n",
       "    }\n",
       "\n",
       "    .dataframe tbody tr th {\n",
       "        vertical-align: top;\n",
       "    }\n",
       "\n",
       "    .dataframe thead th {\n",
       "        text-align: right;\n",
       "    }\n",
       "</style>\n",
       "<table border=\"1\" class=\"dataframe\">\n",
       "  <thead>\n",
       "    <tr style=\"text-align: right;\">\n",
       "      <th></th>\n",
       "      <th>Title</th>\n",
       "      <th>Artist</th>\n",
       "      <th>TopGenre</th>\n",
       "      <th>BeatsPerMinuteBPM</th>\n",
       "      <th>Energy</th>\n",
       "      <th>LoudnessdB</th>\n",
       "      <th>Liveness</th>\n",
       "      <th>LengthDuration</th>\n",
       "      <th>Acousticness</th>\n",
       "      <th>Speechiness</th>\n",
       "      <th>Popularity</th>\n",
       "      <th>Age</th>\n",
       "    </tr>\n",
       "  </thead>\n",
       "  <tbody>\n",
       "    <tr>\n",
       "      <th>0</th>\n",
       "      <td>Sunrise</td>\n",
       "      <td>Norah Jones</td>\n",
       "      <td>adult standards</td>\n",
       "      <td>157.0</td>\n",
       "      <td>30.0</td>\n",
       "      <td>-14.0</td>\n",
       "      <td>11.0</td>\n",
       "      <td>201</td>\n",
       "      <td>94.0</td>\n",
       "      <td>3.0</td>\n",
       "      <td>71.0</td>\n",
       "      <td>17</td>\n",
       "    </tr>\n",
       "    <tr>\n",
       "      <th>1</th>\n",
       "      <td>Black Night</td>\n",
       "      <td>Deep Purple</td>\n",
       "      <td>album rock</td>\n",
       "      <td>135.0</td>\n",
       "      <td>79.0</td>\n",
       "      <td>-11.0</td>\n",
       "      <td>17.0</td>\n",
       "      <td>207</td>\n",
       "      <td>17.0</td>\n",
       "      <td>7.0</td>\n",
       "      <td>39.0</td>\n",
       "      <td>22</td>\n",
       "    </tr>\n",
       "    <tr>\n",
       "      <th>2</th>\n",
       "      <td>Clint Eastwood</td>\n",
       "      <td>Gorillaz</td>\n",
       "      <td>alternative hip hop</td>\n",
       "      <td>168.0</td>\n",
       "      <td>69.0</td>\n",
       "      <td>-9.0</td>\n",
       "      <td>7.0</td>\n",
       "      <td>341</td>\n",
       "      <td>2.0</td>\n",
       "      <td>17.0</td>\n",
       "      <td>69.0</td>\n",
       "      <td>21</td>\n",
       "    </tr>\n",
       "    <tr>\n",
       "      <th>3</th>\n",
       "      <td>The Pretender</td>\n",
       "      <td>Foo Fighters</td>\n",
       "      <td>alternative metal</td>\n",
       "      <td>173.0</td>\n",
       "      <td>96.0</td>\n",
       "      <td>-4.0</td>\n",
       "      <td>3.0</td>\n",
       "      <td>269</td>\n",
       "      <td>0.0</td>\n",
       "      <td>4.0</td>\n",
       "      <td>76.0</td>\n",
       "      <td>15</td>\n",
       "    </tr>\n",
       "    <tr>\n",
       "      <th>4</th>\n",
       "      <td>Waitin' On A Sunny Day</td>\n",
       "      <td>Bruce Springsteen</td>\n",
       "      <td>classic rock</td>\n",
       "      <td>106.0</td>\n",
       "      <td>82.0</td>\n",
       "      <td>-5.0</td>\n",
       "      <td>10.0</td>\n",
       "      <td>256</td>\n",
       "      <td>1.0</td>\n",
       "      <td>3.0</td>\n",
       "      <td>59.0</td>\n",
       "      <td>19</td>\n",
       "    </tr>\n",
       "  </tbody>\n",
       "</table>\n",
       "</div>"
      ],
      "text/plain": [
       "                    Title             Artist             TopGenre  \\\n",
       "0                 Sunrise        Norah Jones      adult standards   \n",
       "1             Black Night        Deep Purple           album rock   \n",
       "2          Clint Eastwood           Gorillaz  alternative hip hop   \n",
       "3           The Pretender       Foo Fighters    alternative metal   \n",
       "4  Waitin' On A Sunny Day  Bruce Springsteen         classic rock   \n",
       "\n",
       "   BeatsPerMinuteBPM  Energy  LoudnessdB  Liveness LengthDuration  \\\n",
       "0              157.0    30.0       -14.0      11.0            201   \n",
       "1              135.0    79.0       -11.0      17.0            207   \n",
       "2              168.0    69.0        -9.0       7.0            341   \n",
       "3              173.0    96.0        -4.0       3.0            269   \n",
       "4              106.0    82.0        -5.0      10.0            256   \n",
       "\n",
       "   Acousticness  Speechiness  Popularity  Age  \n",
       "0          94.0          3.0        71.0   17  \n",
       "1          17.0          7.0        39.0   22  \n",
       "2           2.0         17.0        69.0   21  \n",
       "3           0.0          4.0        76.0   15  \n",
       "4           1.0          3.0        59.0   19  "
      ]
     },
     "execution_count": 135,
     "metadata": {},
     "output_type": "execute_result"
    }
   ],
   "source": [
    "songs.head()"
   ]
  },
  {
   "cell_type": "code",
   "execution_count": 43,
   "metadata": {},
   "outputs": [],
   "source": [
    "GenreD = pd.get_dummies(songs['TopGenre'])"
   ]
  },
  {
   "cell_type": "code",
   "execution_count": 44,
   "metadata": {},
   "outputs": [],
   "source": [
    "songs = songs.drop('TopGenre', axis = 1)"
   ]
  },
  {
   "cell_type": "code",
   "execution_count": 45,
   "metadata": {},
   "outputs": [],
   "source": [
    "songs = songs.join(GenreD)"
   ]
  },
  {
   "cell_type": "code",
   "execution_count": 46,
   "metadata": {},
   "outputs": [],
   "source": [
    "#NOTE: 0 for all dummies columns means TopGenre = acid jazz\n",
    "songs = songs.drop('acid jazz', axis = 1)"
   ]
  },
  {
   "cell_type": "code",
   "execution_count": 59,
   "metadata": {},
   "outputs": [],
   "source": [
    "songs['Year'] = songs['Year'].astype(int)\n",
    "songs['Month'] = songs['Month'].astype(int)"
   ]
  },
  {
   "cell_type": "code",
   "execution_count": 61,
   "metadata": {},
   "outputs": [
    {
     "data": {
      "text/plain": [
       "973           10cc\n",
       "231           10cc\n",
       "1091          10cc\n",
       "1683          2Pac\n",
       "399           2Pac\n",
       "           ...    \n",
       "1817      Zucchero\n",
       "1315          a-ha\n",
       "1342          a-ha\n",
       "1820     blink-182\n",
       "1408    Édith Piaf\n",
       "Name: Artist, Length: 1981, dtype: object"
      ]
     },
     "execution_count": 61,
     "metadata": {},
     "output_type": "execute_result"
    }
   ],
   "source": [
    "songs.Artist.sort_values()"
   ]
  },
  {
   "cell_type": "code",
   "execution_count": 62,
   "metadata": {},
   "outputs": [],
   "source": [
    "#dropped first is (Don't Fear) The Repaer\n",
    "TitleD = pd.get_dummies(songs['Title'], drop_first = True)\n",
    "#dropped first is 10cc\n",
    "ArtistD = pd.get_dummies(songs['Artist'], drop_first = True)"
   ]
  },
  {
   "cell_type": "code",
   "execution_count": 63,
   "metadata": {},
   "outputs": [],
   "source": [
    "TitleD = TitleD.add_prefix('Title_')\n",
    "ArtistD = ArtistD.add_prefix('Artist_')\n",
    "songs = songs.join(TitleD)\n",
    "songs = songs.join(ArtistD)"
   ]
  },
  {
   "cell_type": "code",
   "execution_count": null,
   "metadata": {},
   "outputs": [],
   "source": [
    "songs = songs.drop('Title', axis = 1)\n",
    "songs = songs.drop('Artist', axis = 1)"
   ]
  },
  {
   "cell_type": "code",
   "execution_count": 66,
   "metadata": {},
   "outputs": [],
   "source": [
    "songs.to_csv('cleaned_songs.csv', index=False)"
   ]
  },
  {
   "cell_type": "markdown",
   "metadata": {},
   "source": [
    "# Model Training Exercise "
   ]
  },
  {
   "cell_type": "code",
   "execution_count": 150,
   "metadata": {},
   "outputs": [],
   "source": [
    "#exclude all but target variable\n",
    "x = songs.loc[:, songs.columns != 'Popularity']"
   ]
  },
  {
   "cell_type": "code",
   "execution_count": 153,
   "metadata": {},
   "outputs": [],
   "source": [
    "#target variable\n",
    "y = songs['Popularity']"
   ]
  },
  {
   "cell_type": "code",
   "execution_count": 156,
   "metadata": {},
   "outputs": [],
   "source": [
    "from sklearn.model_selection import train_test_split\n",
    "\n",
    "X_train, X_test, y_train, y_test = train_test_split(\n",
    "    x, y, test_size = 0.30, random_state = 42)"
   ]
  },
  {
   "cell_type": "code",
   "execution_count": 157,
   "metadata": {},
   "outputs": [
    {
     "data": {
      "text/html": [
       "<div>\n",
       "<style scoped>\n",
       "    .dataframe tbody tr th:only-of-type {\n",
       "        vertical-align: middle;\n",
       "    }\n",
       "\n",
       "    .dataframe tbody tr th {\n",
       "        vertical-align: top;\n",
       "    }\n",
       "\n",
       "    .dataframe thead th {\n",
       "        text-align: right;\n",
       "    }\n",
       "</style>\n",
       "<table border=\"1\" class=\"dataframe\">\n",
       "  <thead>\n",
       "    <tr style=\"text-align: right;\">\n",
       "      <th></th>\n",
       "      <th>BeatsPerMinuteBPM</th>\n",
       "      <th>Energy</th>\n",
       "      <th>LoudnessdB</th>\n",
       "      <th>Liveness</th>\n",
       "      <th>Acousticness</th>\n",
       "      <th>Speechiness</th>\n",
       "      <th>Age</th>\n",
       "      <th>acoustic pop</th>\n",
       "      <th>adult standards</th>\n",
       "      <th>afropop</th>\n",
       "      <th>...</th>\n",
       "      <th>reggae</th>\n",
       "      <th>reggae fusion</th>\n",
       "      <th>rock-and-roll</th>\n",
       "      <th>scottish singer-songwriter</th>\n",
       "      <th>soft rock</th>\n",
       "      <th>stomp and holler</th>\n",
       "      <th>streektaal</th>\n",
       "      <th>trance</th>\n",
       "      <th>uk pop</th>\n",
       "      <th>yacht rock</th>\n",
       "    </tr>\n",
       "  </thead>\n",
       "  <tbody>\n",
       "    <tr>\n",
       "      <th>count</th>\n",
       "      <td>1386.000000</td>\n",
       "      <td>1386.000000</td>\n",
       "      <td>1386.000000</td>\n",
       "      <td>1386.000000</td>\n",
       "      <td>1386.000000</td>\n",
       "      <td>1386.00000</td>\n",
       "      <td>1386.000000</td>\n",
       "      <td>1386.000000</td>\n",
       "      <td>1386.000000</td>\n",
       "      <td>1386.0</td>\n",
       "      <td>...</td>\n",
       "      <td>1386.000000</td>\n",
       "      <td>1386.000000</td>\n",
       "      <td>1386.000000</td>\n",
       "      <td>1386.000000</td>\n",
       "      <td>1386.000000</td>\n",
       "      <td>1386.000000</td>\n",
       "      <td>1386.000000</td>\n",
       "      <td>1386.000000</td>\n",
       "      <td>1386.000000</td>\n",
       "      <td>1386.0</td>\n",
       "    </tr>\n",
       "    <tr>\n",
       "      <th>mean</th>\n",
       "      <td>119.826118</td>\n",
       "      <td>59.413420</td>\n",
       "      <td>-9.094517</td>\n",
       "      <td>18.974747</td>\n",
       "      <td>29.160173</td>\n",
       "      <td>5.02381</td>\n",
       "      <td>28.555556</td>\n",
       "      <td>0.000722</td>\n",
       "      <td>0.063492</td>\n",
       "      <td>0.0</td>\n",
       "      <td>...</td>\n",
       "      <td>0.004329</td>\n",
       "      <td>0.002886</td>\n",
       "      <td>0.000722</td>\n",
       "      <td>0.000722</td>\n",
       "      <td>0.000722</td>\n",
       "      <td>0.000722</td>\n",
       "      <td>0.000722</td>\n",
       "      <td>0.000722</td>\n",
       "      <td>0.000722</td>\n",
       "      <td>0.0</td>\n",
       "    </tr>\n",
       "    <tr>\n",
       "      <th>std</th>\n",
       "      <td>28.670959</td>\n",
       "      <td>22.060928</td>\n",
       "      <td>3.731669</td>\n",
       "      <td>16.715978</td>\n",
       "      <td>29.429331</td>\n",
       "      <td>4.43877</td>\n",
       "      <td>16.071955</td>\n",
       "      <td>0.026861</td>\n",
       "      <td>0.243934</td>\n",
       "      <td>0.0</td>\n",
       "      <td>...</td>\n",
       "      <td>0.065676</td>\n",
       "      <td>0.053663</td>\n",
       "      <td>0.026861</td>\n",
       "      <td>0.026861</td>\n",
       "      <td>0.026861</td>\n",
       "      <td>0.026861</td>\n",
       "      <td>0.026861</td>\n",
       "      <td>0.026861</td>\n",
       "      <td>0.026861</td>\n",
       "      <td>0.0</td>\n",
       "    </tr>\n",
       "    <tr>\n",
       "      <th>min</th>\n",
       "      <td>15.000000</td>\n",
       "      <td>3.000000</td>\n",
       "      <td>-27.000000</td>\n",
       "      <td>2.000000</td>\n",
       "      <td>0.000000</td>\n",
       "      <td>2.00000</td>\n",
       "      <td>2.000000</td>\n",
       "      <td>0.000000</td>\n",
       "      <td>0.000000</td>\n",
       "      <td>0.0</td>\n",
       "      <td>...</td>\n",
       "      <td>0.000000</td>\n",
       "      <td>0.000000</td>\n",
       "      <td>0.000000</td>\n",
       "      <td>0.000000</td>\n",
       "      <td>0.000000</td>\n",
       "      <td>0.000000</td>\n",
       "      <td>0.000000</td>\n",
       "      <td>0.000000</td>\n",
       "      <td>0.000000</td>\n",
       "      <td>0.0</td>\n",
       "    </tr>\n",
       "    <tr>\n",
       "      <th>25%</th>\n",
       "      <td>99.000000</td>\n",
       "      <td>43.000000</td>\n",
       "      <td>-11.000000</td>\n",
       "      <td>9.000000</td>\n",
       "      <td>3.000000</td>\n",
       "      <td>3.00000</td>\n",
       "      <td>14.000000</td>\n",
       "      <td>0.000000</td>\n",
       "      <td>0.000000</td>\n",
       "      <td>0.0</td>\n",
       "      <td>...</td>\n",
       "      <td>0.000000</td>\n",
       "      <td>0.000000</td>\n",
       "      <td>0.000000</td>\n",
       "      <td>0.000000</td>\n",
       "      <td>0.000000</td>\n",
       "      <td>0.000000</td>\n",
       "      <td>0.000000</td>\n",
       "      <td>0.000000</td>\n",
       "      <td>0.000000</td>\n",
       "      <td>0.0</td>\n",
       "    </tr>\n",
       "    <tr>\n",
       "      <th>50%</th>\n",
       "      <td>119.000000</td>\n",
       "      <td>61.000000</td>\n",
       "      <td>-9.000000</td>\n",
       "      <td>12.000000</td>\n",
       "      <td>18.000000</td>\n",
       "      <td>4.00000</td>\n",
       "      <td>28.000000</td>\n",
       "      <td>0.000000</td>\n",
       "      <td>0.000000</td>\n",
       "      <td>0.0</td>\n",
       "      <td>...</td>\n",
       "      <td>0.000000</td>\n",
       "      <td>0.000000</td>\n",
       "      <td>0.000000</td>\n",
       "      <td>0.000000</td>\n",
       "      <td>0.000000</td>\n",
       "      <td>0.000000</td>\n",
       "      <td>0.000000</td>\n",
       "      <td>0.000000</td>\n",
       "      <td>0.000000</td>\n",
       "      <td>0.0</td>\n",
       "    </tr>\n",
       "    <tr>\n",
       "      <th>75%</th>\n",
       "      <td>135.000000</td>\n",
       "      <td>77.000000</td>\n",
       "      <td>-6.000000</td>\n",
       "      <td>22.750000</td>\n",
       "      <td>51.000000</td>\n",
       "      <td>5.00000</td>\n",
       "      <td>43.000000</td>\n",
       "      <td>0.000000</td>\n",
       "      <td>0.000000</td>\n",
       "      <td>0.0</td>\n",
       "      <td>...</td>\n",
       "      <td>0.000000</td>\n",
       "      <td>0.000000</td>\n",
       "      <td>0.000000</td>\n",
       "      <td>0.000000</td>\n",
       "      <td>0.000000</td>\n",
       "      <td>0.000000</td>\n",
       "      <td>0.000000</td>\n",
       "      <td>0.000000</td>\n",
       "      <td>0.000000</td>\n",
       "      <td>0.0</td>\n",
       "    </tr>\n",
       "    <tr>\n",
       "      <th>max</th>\n",
       "      <td>305.000000</td>\n",
       "      <td>100.000000</td>\n",
       "      <td>-2.000000</td>\n",
       "      <td>98.000000</td>\n",
       "      <td>98.000000</td>\n",
       "      <td>46.00000</td>\n",
       "      <td>64.000000</td>\n",
       "      <td>1.000000</td>\n",
       "      <td>1.000000</td>\n",
       "      <td>0.0</td>\n",
       "      <td>...</td>\n",
       "      <td>1.000000</td>\n",
       "      <td>1.000000</td>\n",
       "      <td>1.000000</td>\n",
       "      <td>1.000000</td>\n",
       "      <td>1.000000</td>\n",
       "      <td>1.000000</td>\n",
       "      <td>1.000000</td>\n",
       "      <td>1.000000</td>\n",
       "      <td>1.000000</td>\n",
       "      <td>0.0</td>\n",
       "    </tr>\n",
       "  </tbody>\n",
       "</table>\n",
       "<p>8 rows × 155 columns</p>\n",
       "</div>"
      ],
      "text/plain": [
       "       BeatsPerMinuteBPM       Energy   LoudnessdB     Liveness  Acousticness  \\\n",
       "count        1386.000000  1386.000000  1386.000000  1386.000000   1386.000000   \n",
       "mean          119.826118    59.413420    -9.094517    18.974747     29.160173   \n",
       "std            28.670959    22.060928     3.731669    16.715978     29.429331   \n",
       "min            15.000000     3.000000   -27.000000     2.000000      0.000000   \n",
       "25%            99.000000    43.000000   -11.000000     9.000000      3.000000   \n",
       "50%           119.000000    61.000000    -9.000000    12.000000     18.000000   \n",
       "75%           135.000000    77.000000    -6.000000    22.750000     51.000000   \n",
       "max           305.000000   100.000000    -2.000000    98.000000     98.000000   \n",
       "\n",
       "       Speechiness          Age  acoustic pop  adult standards  afropop  ...  \\\n",
       "count   1386.00000  1386.000000   1386.000000      1386.000000   1386.0  ...   \n",
       "mean       5.02381    28.555556      0.000722         0.063492      0.0  ...   \n",
       "std        4.43877    16.071955      0.026861         0.243934      0.0  ...   \n",
       "min        2.00000     2.000000      0.000000         0.000000      0.0  ...   \n",
       "25%        3.00000    14.000000      0.000000         0.000000      0.0  ...   \n",
       "50%        4.00000    28.000000      0.000000         0.000000      0.0  ...   \n",
       "75%        5.00000    43.000000      0.000000         0.000000      0.0  ...   \n",
       "max       46.00000    64.000000      1.000000         1.000000      0.0  ...   \n",
       "\n",
       "            reggae  reggae fusion  rock-and-roll  scottish singer-songwriter  \\\n",
       "count  1386.000000    1386.000000    1386.000000                 1386.000000   \n",
       "mean      0.004329       0.002886       0.000722                    0.000722   \n",
       "std       0.065676       0.053663       0.026861                    0.026861   \n",
       "min       0.000000       0.000000       0.000000                    0.000000   \n",
       "25%       0.000000       0.000000       0.000000                    0.000000   \n",
       "50%       0.000000       0.000000       0.000000                    0.000000   \n",
       "75%       0.000000       0.000000       0.000000                    0.000000   \n",
       "max       1.000000       1.000000       1.000000                    1.000000   \n",
       "\n",
       "         soft rock  stomp and holler   streektaal       trance       uk pop  \\\n",
       "count  1386.000000       1386.000000  1386.000000  1386.000000  1386.000000   \n",
       "mean      0.000722          0.000722     0.000722     0.000722     0.000722   \n",
       "std       0.026861          0.026861     0.026861     0.026861     0.026861   \n",
       "min       0.000000          0.000000     0.000000     0.000000     0.000000   \n",
       "25%       0.000000          0.000000     0.000000     0.000000     0.000000   \n",
       "50%       0.000000          0.000000     0.000000     0.000000     0.000000   \n",
       "75%       0.000000          0.000000     0.000000     0.000000     0.000000   \n",
       "max       1.000000          1.000000     1.000000     1.000000     1.000000   \n",
       "\n",
       "       yacht rock  \n",
       "count      1386.0  \n",
       "mean          0.0  \n",
       "std           0.0  \n",
       "min           0.0  \n",
       "25%           0.0  \n",
       "50%           0.0  \n",
       "75%           0.0  \n",
       "max           0.0  \n",
       "\n",
       "[8 rows x 155 columns]"
      ]
     },
     "execution_count": 157,
     "metadata": {},
     "output_type": "execute_result"
    }
   ],
   "source": [
    "X_train.describe()"
   ]
  },
  {
   "cell_type": "code",
   "execution_count": 158,
   "metadata": {},
   "outputs": [
    {
     "data": {
      "text/html": [
       "<div>\n",
       "<style scoped>\n",
       "    .dataframe tbody tr th:only-of-type {\n",
       "        vertical-align: middle;\n",
       "    }\n",
       "\n",
       "    .dataframe tbody tr th {\n",
       "        vertical-align: top;\n",
       "    }\n",
       "\n",
       "    .dataframe thead th {\n",
       "        text-align: right;\n",
       "    }\n",
       "</style>\n",
       "<table border=\"1\" class=\"dataframe\">\n",
       "  <thead>\n",
       "    <tr style=\"text-align: right;\">\n",
       "      <th></th>\n",
       "      <th>BeatsPerMinuteBPM</th>\n",
       "      <th>Energy</th>\n",
       "      <th>LoudnessdB</th>\n",
       "      <th>Liveness</th>\n",
       "      <th>Acousticness</th>\n",
       "      <th>Speechiness</th>\n",
       "      <th>Age</th>\n",
       "      <th>acoustic pop</th>\n",
       "      <th>adult standards</th>\n",
       "      <th>afropop</th>\n",
       "      <th>...</th>\n",
       "      <th>reggae</th>\n",
       "      <th>reggae fusion</th>\n",
       "      <th>rock-and-roll</th>\n",
       "      <th>scottish singer-songwriter</th>\n",
       "      <th>soft rock</th>\n",
       "      <th>stomp and holler</th>\n",
       "      <th>streektaal</th>\n",
       "      <th>trance</th>\n",
       "      <th>uk pop</th>\n",
       "      <th>yacht rock</th>\n",
       "    </tr>\n",
       "  </thead>\n",
       "  <tbody>\n",
       "    <tr>\n",
       "      <th>count</th>\n",
       "      <td>595.000000</td>\n",
       "      <td>595.000000</td>\n",
       "      <td>595.000000</td>\n",
       "      <td>595.000000</td>\n",
       "      <td>595.000000</td>\n",
       "      <td>595.000000</td>\n",
       "      <td>595.000000</td>\n",
       "      <td>595.000000</td>\n",
       "      <td>595.000000</td>\n",
       "      <td>595.000000</td>\n",
       "      <td>...</td>\n",
       "      <td>595.000000</td>\n",
       "      <td>595.0</td>\n",
       "      <td>595.0</td>\n",
       "      <td>595.000000</td>\n",
       "      <td>595.0</td>\n",
       "      <td>595.0</td>\n",
       "      <td>595.0</td>\n",
       "      <td>595.0</td>\n",
       "      <td>595.0</td>\n",
       "      <td>595.000000</td>\n",
       "    </tr>\n",
       "    <tr>\n",
       "      <th>mean</th>\n",
       "      <td>121.200000</td>\n",
       "      <td>60.171429</td>\n",
       "      <td>-8.840336</td>\n",
       "      <td>19.089076</td>\n",
       "      <td>28.406723</td>\n",
       "      <td>4.919328</td>\n",
       "      <td>28.329412</td>\n",
       "      <td>0.005042</td>\n",
       "      <td>0.055462</td>\n",
       "      <td>0.001681</td>\n",
       "      <td>...</td>\n",
       "      <td>0.003361</td>\n",
       "      <td>0.0</td>\n",
       "      <td>0.0</td>\n",
       "      <td>0.001681</td>\n",
       "      <td>0.0</td>\n",
       "      <td>0.0</td>\n",
       "      <td>0.0</td>\n",
       "      <td>0.0</td>\n",
       "      <td>0.0</td>\n",
       "      <td>0.001681</td>\n",
       "    </tr>\n",
       "    <tr>\n",
       "      <th>std</th>\n",
       "      <td>28.610916</td>\n",
       "      <td>22.455812</td>\n",
       "      <td>3.456276</td>\n",
       "      <td>16.801188</td>\n",
       "      <td>28.154922</td>\n",
       "      <td>4.348870</td>\n",
       "      <td>16.302766</td>\n",
       "      <td>0.070888</td>\n",
       "      <td>0.229073</td>\n",
       "      <td>0.040996</td>\n",
       "      <td>...</td>\n",
       "      <td>0.057928</td>\n",
       "      <td>0.0</td>\n",
       "      <td>0.0</td>\n",
       "      <td>0.040996</td>\n",
       "      <td>0.0</td>\n",
       "      <td>0.0</td>\n",
       "      <td>0.0</td>\n",
       "      <td>0.0</td>\n",
       "      <td>0.0</td>\n",
       "      <td>0.040996</td>\n",
       "    </tr>\n",
       "    <tr>\n",
       "      <th>min</th>\n",
       "      <td>37.000000</td>\n",
       "      <td>5.000000</td>\n",
       "      <td>-21.000000</td>\n",
       "      <td>3.000000</td>\n",
       "      <td>0.000000</td>\n",
       "      <td>2.000000</td>\n",
       "      <td>2.000000</td>\n",
       "      <td>0.000000</td>\n",
       "      <td>0.000000</td>\n",
       "      <td>0.000000</td>\n",
       "      <td>...</td>\n",
       "      <td>0.000000</td>\n",
       "      <td>0.0</td>\n",
       "      <td>0.0</td>\n",
       "      <td>0.000000</td>\n",
       "      <td>0.0</td>\n",
       "      <td>0.0</td>\n",
       "      <td>0.0</td>\n",
       "      <td>0.0</td>\n",
       "      <td>0.0</td>\n",
       "      <td>0.000000</td>\n",
       "    </tr>\n",
       "    <tr>\n",
       "      <th>25%</th>\n",
       "      <td>100.500000</td>\n",
       "      <td>42.000000</td>\n",
       "      <td>-11.000000</td>\n",
       "      <td>9.000000</td>\n",
       "      <td>4.000000</td>\n",
       "      <td>3.000000</td>\n",
       "      <td>14.000000</td>\n",
       "      <td>0.000000</td>\n",
       "      <td>0.000000</td>\n",
       "      <td>0.000000</td>\n",
       "      <td>...</td>\n",
       "      <td>0.000000</td>\n",
       "      <td>0.0</td>\n",
       "      <td>0.0</td>\n",
       "      <td>0.000000</td>\n",
       "      <td>0.0</td>\n",
       "      <td>0.0</td>\n",
       "      <td>0.0</td>\n",
       "      <td>0.0</td>\n",
       "      <td>0.0</td>\n",
       "      <td>0.000000</td>\n",
       "    </tr>\n",
       "    <tr>\n",
       "      <th>50%</th>\n",
       "      <td>119.000000</td>\n",
       "      <td>61.000000</td>\n",
       "      <td>-8.000000</td>\n",
       "      <td>13.000000</td>\n",
       "      <td>18.000000</td>\n",
       "      <td>4.000000</td>\n",
       "      <td>28.000000</td>\n",
       "      <td>0.000000</td>\n",
       "      <td>0.000000</td>\n",
       "      <td>0.000000</td>\n",
       "      <td>...</td>\n",
       "      <td>0.000000</td>\n",
       "      <td>0.0</td>\n",
       "      <td>0.0</td>\n",
       "      <td>0.000000</td>\n",
       "      <td>0.0</td>\n",
       "      <td>0.0</td>\n",
       "      <td>0.0</td>\n",
       "      <td>0.0</td>\n",
       "      <td>0.0</td>\n",
       "      <td>0.000000</td>\n",
       "    </tr>\n",
       "    <tr>\n",
       "      <th>75%</th>\n",
       "      <td>137.500000</td>\n",
       "      <td>80.000000</td>\n",
       "      <td>-6.000000</td>\n",
       "      <td>23.000000</td>\n",
       "      <td>48.500000</td>\n",
       "      <td>5.000000</td>\n",
       "      <td>42.000000</td>\n",
       "      <td>0.000000</td>\n",
       "      <td>0.000000</td>\n",
       "      <td>0.000000</td>\n",
       "      <td>...</td>\n",
       "      <td>0.000000</td>\n",
       "      <td>0.0</td>\n",
       "      <td>0.0</td>\n",
       "      <td>0.000000</td>\n",
       "      <td>0.0</td>\n",
       "      <td>0.0</td>\n",
       "      <td>0.0</td>\n",
       "      <td>0.0</td>\n",
       "      <td>0.0</td>\n",
       "      <td>0.000000</td>\n",
       "    </tr>\n",
       "    <tr>\n",
       "      <th>max</th>\n",
       "      <td>197.000000</td>\n",
       "      <td>99.000000</td>\n",
       "      <td>-2.000000</td>\n",
       "      <td>99.000000</td>\n",
       "      <td>99.000000</td>\n",
       "      <td>55.000000</td>\n",
       "      <td>65.000000</td>\n",
       "      <td>1.000000</td>\n",
       "      <td>1.000000</td>\n",
       "      <td>1.000000</td>\n",
       "      <td>...</td>\n",
       "      <td>1.000000</td>\n",
       "      <td>0.0</td>\n",
       "      <td>0.0</td>\n",
       "      <td>1.000000</td>\n",
       "      <td>0.0</td>\n",
       "      <td>0.0</td>\n",
       "      <td>0.0</td>\n",
       "      <td>0.0</td>\n",
       "      <td>0.0</td>\n",
       "      <td>1.000000</td>\n",
       "    </tr>\n",
       "  </tbody>\n",
       "</table>\n",
       "<p>8 rows × 155 columns</p>\n",
       "</div>"
      ],
      "text/plain": [
       "       BeatsPerMinuteBPM      Energy  LoudnessdB    Liveness  Acousticness  \\\n",
       "count         595.000000  595.000000  595.000000  595.000000    595.000000   \n",
       "mean          121.200000   60.171429   -8.840336   19.089076     28.406723   \n",
       "std            28.610916   22.455812    3.456276   16.801188     28.154922   \n",
       "min            37.000000    5.000000  -21.000000    3.000000      0.000000   \n",
       "25%           100.500000   42.000000  -11.000000    9.000000      4.000000   \n",
       "50%           119.000000   61.000000   -8.000000   13.000000     18.000000   \n",
       "75%           137.500000   80.000000   -6.000000   23.000000     48.500000   \n",
       "max           197.000000   99.000000   -2.000000   99.000000     99.000000   \n",
       "\n",
       "       Speechiness         Age  acoustic pop  adult standards     afropop  \\\n",
       "count   595.000000  595.000000    595.000000       595.000000  595.000000   \n",
       "mean      4.919328   28.329412      0.005042         0.055462    0.001681   \n",
       "std       4.348870   16.302766      0.070888         0.229073    0.040996   \n",
       "min       2.000000    2.000000      0.000000         0.000000    0.000000   \n",
       "25%       3.000000   14.000000      0.000000         0.000000    0.000000   \n",
       "50%       4.000000   28.000000      0.000000         0.000000    0.000000   \n",
       "75%       5.000000   42.000000      0.000000         0.000000    0.000000   \n",
       "max      55.000000   65.000000      1.000000         1.000000    1.000000   \n",
       "\n",
       "       ...      reggae  reggae fusion  rock-and-roll  \\\n",
       "count  ...  595.000000          595.0          595.0   \n",
       "mean   ...    0.003361            0.0            0.0   \n",
       "std    ...    0.057928            0.0            0.0   \n",
       "min    ...    0.000000            0.0            0.0   \n",
       "25%    ...    0.000000            0.0            0.0   \n",
       "50%    ...    0.000000            0.0            0.0   \n",
       "75%    ...    0.000000            0.0            0.0   \n",
       "max    ...    1.000000            0.0            0.0   \n",
       "\n",
       "       scottish singer-songwriter  soft rock  stomp and holler  streektaal  \\\n",
       "count                  595.000000      595.0             595.0       595.0   \n",
       "mean                     0.001681        0.0               0.0         0.0   \n",
       "std                      0.040996        0.0               0.0         0.0   \n",
       "min                      0.000000        0.0               0.0         0.0   \n",
       "25%                      0.000000        0.0               0.0         0.0   \n",
       "50%                      0.000000        0.0               0.0         0.0   \n",
       "75%                      0.000000        0.0               0.0         0.0   \n",
       "max                      1.000000        0.0               0.0         0.0   \n",
       "\n",
       "       trance  uk pop  yacht rock  \n",
       "count   595.0   595.0  595.000000  \n",
       "mean      0.0     0.0    0.001681  \n",
       "std       0.0     0.0    0.040996  \n",
       "min       0.0     0.0    0.000000  \n",
       "25%       0.0     0.0    0.000000  \n",
       "50%       0.0     0.0    0.000000  \n",
       "75%       0.0     0.0    0.000000  \n",
       "max       0.0     0.0    1.000000  \n",
       "\n",
       "[8 rows x 155 columns]"
      ]
     },
     "execution_count": 158,
     "metadata": {},
     "output_type": "execute_result"
    }
   ],
   "source": [
    "X_test.describe()"
   ]
  },
  {
   "cell_type": "code",
   "execution_count": 159,
   "metadata": {},
   "outputs": [
    {
     "data": {
      "text/plain": [
       "count    1386.000000\n",
       "mean       59.500722\n",
       "std        14.278471\n",
       "min        13.000000\n",
       "25%        49.000000\n",
       "50%        62.000000\n",
       "75%        71.000000\n",
       "max       100.000000\n",
       "Name: Popularity, dtype: float64"
      ]
     },
     "execution_count": 159,
     "metadata": {},
     "output_type": "execute_result"
    }
   ],
   "source": [
    "y_train.describe()"
   ]
  },
  {
   "cell_type": "code",
   "execution_count": 161,
   "metadata": {},
   "outputs": [
    {
     "data": {
      "text/plain": [
       "count    595.000000\n",
       "mean      59.495798\n",
       "std       14.606554\n",
       "min       11.000000\n",
       "25%       49.500000\n",
       "50%       62.000000\n",
       "75%       70.000000\n",
       "max       87.000000\n",
       "Name: Popularity, dtype: float64"
      ]
     },
     "execution_count": 161,
     "metadata": {},
     "output_type": "execute_result"
    }
   ],
   "source": [
    "y_test.describe()"
   ]
  }
 ],
 "metadata": {
  "kernelspec": {
   "display_name": "Python 3.9.12 ('base')",
   "language": "python",
   "name": "python3"
  },
  "language_info": {
   "codemirror_mode": {
    "name": "ipython",
    "version": 3
   },
   "file_extension": ".py",
   "mimetype": "text/x-python",
   "name": "python",
   "nbconvert_exporter": "python",
   "pygments_lexer": "ipython3",
   "version": "3.9.12"
  },
  "orig_nbformat": 4,
  "vscode": {
   "interpreter": {
    "hash": "b873ff1bdb436288997389ad0554016b476263221ef541de4710294d3256898e"
   }
  }
 },
 "nbformat": 4,
 "nbformat_minor": 2
}
